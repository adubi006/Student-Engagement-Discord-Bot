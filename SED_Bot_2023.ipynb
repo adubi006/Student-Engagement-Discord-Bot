{
 "cells": [
  {
   "cell_type": "markdown",
   "id": "e98d3c3f-89f5-411d-b157-2a179220d468",
   "metadata": {},
   "source": [
    "# DATA PREPROCESSING"
   ]
  },
  {
   "cell_type": "code",
   "execution_count": 35,
   "id": "c9c963fd-d6ee-406c-bae0-b87e9ec35cde",
   "metadata": {
    "collapsed": true,
    "jupyter": {
     "outputs_hidden": true
    },
    "scrolled": true
   },
   "outputs": [
    {
     "name": "stdout",
     "output_type": "stream",
     "text": [
      "              STUDENT_ID Question_ID                      Response  \\\n",
      "0    1064892608008167495       PD007                             B   \n",
      "1     932982740821872700       PD007                     Satisfied   \n",
      "2     829689559943479296       PD007                             b   \n",
      "3     914658875834241054       PD007                             B   \n",
      "4     880684860400873505       PD007                             A   \n",
      "..                   ...         ...                           ...   \n",
      "350   872011308793471036       PL001                             D   \n",
      "356  1065564948048138290       PL001                   h. WhatsApp   \n",
      "358  1067383972499312671       PL001                      Ac, h, i   \n",
      "360   922614479542452284       PL001                             D   \n",
      "361  1064902702372507698       PL001  Twitter \\nYouTube \\nWhatsApp   \n",
      "\n",
      "               TimeStamp       Question_Title  \n",
      "0    2023-11-04 18:32:05  course_satisfaction  \n",
      "1    2023-11-04 18:32:05  course_satisfaction  \n",
      "2    2023-11-04 18:36:53  course_satisfaction  \n",
      "3    2023-11-04 18:39:31  course_satisfaction  \n",
      "4    2023-11-04 18:45:34  course_satisfaction  \n",
      "..                   ...                  ...  \n",
      "350  2023-11-05 19:10:41         favorite_app  \n",
      "356  2023-11-05 19:32:21         favorite_app  \n",
      "358  2023-11-05 19:49:42         favorite_app  \n",
      "360  2023-11-05 19:52:20         favorite_app  \n",
      "361  2023-11-05 19:56:53         favorite_app  \n",
      "\n",
      "[151 rows x 5 columns]\n"
     ]
    }
   ],
   "source": [
    "import gspread\n",
    "from oauth2client.service_account import ServiceAccountCredentials\n",
    "import pandas as pd\n",
    "\n",
    "scope = [\"https://spreadsheets.google.com/feeds\", \"https://www.googleapis.com/auth/drive\"]\n",
    "creds = ServiceAccountCredentials.from_json_keyfile_name(r'C:\\Users\\Hp\\Downloads\\explore-sed-e91f95f5477f.json', scope)\n",
    "gc = gspread.authorize(creds)\n",
    "\n",
    "Mavis_Records = \"exploreSED\"\n",
    "\n",
    "ans_sheet = gc.open(Mavis_Records).worksheet('ANS')\n",
    "qtn_sheet = gc.open(Mavis_Records).worksheet('QTN')\n",
    "\n",
    "# Get the data from both sheets\n",
    "ans_data = ans_sheet.get_all_records()\n",
    "qtn_data = qtn_sheet.get_all_records() \n",
    "\n",
    "# Create a Pandas DataFrame from the data\n",
    "ans_df = pd.DataFrame(ans_data)\n",
    "qtn_df = pd.DataFrame(qtn_data)\n",
    "\n",
    "# Merge the dataframes on 'Question_ID' to include 'Question_Title'\n",
    "merged_df = ans_df.merge(qtn_df[['Question_ID', 'Question_Title']], on='Question_ID')\n",
    "\n",
    "# Filter the DataFrame to only include rows where 'Response' is not 'No Response'\n",
    "filtered_df = merged_df[merged_df['Response'] != 'No Response']\n",
    "\n",
    "# List unique Question_IDs in ascending order as a row\n",
    "# unique_question_ids = sorted(filtered_df['Question_ID'].unique())\n",
    "# unique_question_titles = sorted(filtered_df['Question_Title'].unique())\n",
    "\n",
    "\n",
    "# List unique Student_IDs as a column\n",
    "# unique_student_ids = filtered_df['STUDENT_ID'].unique()\n",
    "\n",
    "# Create a new DataFrame in matrix format\n",
    "# transformed_data = []\n",
    "\n",
    "# for student_id in unique_student_ids:\n",
    "#     student_responses = filtered_df[filtered_df['STUDENT_ID'] == student_id].set_index('Question_Title')['Response'].reindex(unique_question_ids).values\n",
    "#     transformed_data.append([student_id] + student_responses.tolist())\n",
    "\n",
    "# Create a new DataFrame with the matrix format\n",
    "# transformed_data_df = pd.DataFrame(transformed_data, columns=['STUDENT_ID'] + unique_question_titles)\n",
    "\n",
    "# Print the new DataFrame\n",
    "# print(transformed_data)\n",
    "print(filtered_df)"
   ]
  },
  {
   "cell_type": "code",
   "execution_count": 31,
   "id": "b194cc76-0724-4028-8f37-15563faac0de",
   "metadata": {
    "collapsed": true,
    "jupyter": {
     "outputs_hidden": true
    },
    "scrolled": true
   },
   "outputs": [
    {
     "name": "stdout",
     "output_type": "stream",
     "text": [
      "Question_Title                            access_to_additional_support  \\\n",
      "STUDENT_ID                                                               \n",
      "829689559943479296                                                   a   \n",
      "872011308793471036                                                   B   \n",
      "880684860400873505                                                   B   \n",
      "895700412106149899                                         No Response   \n",
      "907555122723319858                                         No Response   \n",
      "914658875834241054                                                   B   \n",
      "922614479542452284                                                   C   \n",
      "932982740821872700               No, I am not aware of thwse resources   \n",
      "1030009694212870144                              c. No. I am not aware   \n",
      "1037395744786747412                                        No Response   \n",
      "1040938229513343056                                        No Response   \n",
      "1064493525137371176                                        No Response   \n",
      "1064892608008167495                                                  B   \n",
      "1064902702372507698  b I have limited awareness and would like more...   \n",
      "1065564948048138290                            c. Full-time employment   \n",
      "1065568388115595284                                                  C   \n",
      "1065924770442522674                                        No Response   \n",
      "1065948441353658388                                        No Response   \n",
      "1066024418087800892                                        No Response   \n",
      "1067383972499312671                                        No Response   \n",
      "\n",
      "Question_Title               age                   career_aspiration  \\\n",
      "STUDENT_ID                                                             \n",
      "829689559943479296   No Response                                   d   \n",
      "872011308793471036             E                         No Response   \n",
      "880684860400873505             C                                   D   \n",
      "895700412106149899   No Response            I have limited awareness   \n",
      "907555122723319858             b                                   d   \n",
      "914658875834241054             C                                   D   \n",
      "922614479542452284   No Response                         No Response   \n",
      "932982740821872700         36-40  Business Analyst or Data Scientist   \n",
      "1030009694212870144            g                   d. Data Scientist   \n",
      "1037395744786747412  No Response                   d. Data scientist   \n",
      "1040938229513343056  No Response                         No Response   \n",
      "1064493525137371176           d.                         No Response   \n",
      "1064892608008167495            C                                   D   \n",
      "1064902702372507698     c. 26-30                         No Response   \n",
      "1065564948048138290           c.                   d. Data scientist   \n",
      "1065568388115595284            D                         No Response   \n",
      "1065924770442522674  No Response                         No Response   \n",
      "1065948441353658388            i                         No Response   \n",
      "1066024418087800892  No Response                         No Response   \n",
      "1067383972499312671  No Response                                   c   \n",
      "\n",
      "Question_Title                                 career_sector  \\\n",
      "STUDENT_ID                                                     \n",
      "829689559943479296                               No Response   \n",
      "872011308793471036                               No Response   \n",
      "880684860400873505                                  Business   \n",
      "895700412106149899                               No Response   \n",
      "907555122723319858                               No Response   \n",
      "914658875834241054                                Automotive   \n",
      "922614479542452284                                         A   \n",
      "932982740821872700   Healthcare. Finance. Military. Business   \n",
      "1030009694212870144                                  Telecom   \n",
      "1037395744786747412                              No Response   \n",
      "1040938229513343056                              No Response   \n",
      "1064493525137371176                              No Response   \n",
      "1064892608008167495                                Education   \n",
      "1064902702372507698                   No, any sector is fine   \n",
      "1065564948048138290                               Healthcare   \n",
      "1065568388115595284                                        C   \n",
      "1065924770442522674                              No Response   \n",
      "1065948441353658388                              No Response   \n",
      "1066024418087800892                              No Response   \n",
      "1067383972499312671                              No Response   \n",
      "\n",
      "Question_Title      course_confidence course_satisfaction     course_title  \\\n",
      "STUDENT_ID                                                                   \n",
      "829689559943479296                  b                   b       Healthcare   \n",
      "872011308793471036        No Response         No Response                B   \n",
      "880684860400873505        No Response                   A      No Response   \n",
      "895700412106149899        No Response           Satisfied      No Response   \n",
      "907555122723319858        No Response         No Response      No Response   \n",
      "914658875834241054                  B                   B                A   \n",
      "922614479542452284                  B         No Response      No Response   \n",
      "932982740821872700      Highly likely           Satisfied     Data Science   \n",
      "1030009694212870144  a. Highly likely         No Response  a. Data Science   \n",
      "1037395744786747412       No Response         No Response      No Response   \n",
      "1040938229513343056       No Response         No Response      No Response   \n",
      "1064493525137371176       No Response         No Response      No Response   \n",
      "1064892608008167495       No Response                   B                A   \n",
      "1064902702372507698       No Response         No Response  a. Data Science   \n",
      "1065564948048138290  a. Highly likely   a. Very Satisfied  A. Data Science   \n",
      "1065568388115595284                 A                   B      No Response   \n",
      "1065924770442522674       No Response         No Response      No Response   \n",
      "1065948441353658388       No Response         No Response      No Response   \n",
      "1066024418087800892                 B                   B      No Response   \n",
      "1067383972499312671       No Response         No Response      No Response   \n",
      "\n",
      "Question_Title           current_location        education  \\\n",
      "STUDENT_ID                                                   \n",
      "829689559943479296            No Response                b   \n",
      "872011308793471036            No Response      No Response   \n",
      "880684860400873505                  Lagos                D   \n",
      "895700412106149899          Northern Cape      No Response   \n",
      "907555122723319858            No Response                d   \n",
      "914658875834241054         Lagos, Nigeria                C   \n",
      "922614479542452284        Ibadan, Nigeria      No Response   \n",
      "932982740821872700         Lagos, Nigeria            Ph.D.   \n",
      "1030009694212870144     Abeokuta, Nigeria   Masters Degree   \n",
      "1037395744786747412   Benin-City, Nigeria  Master's Degree   \n",
      "1040938229513343056           No Response      No Response   \n",
      "1064493525137371176            Sure, Mavi      No Response   \n",
      "1064892608008167495       Ilorin, Nigeria                G   \n",
      "1064902702372507698           No Response    d. Bachelor's   \n",
      "1065564948048138290       Osogbo, Nigeria      No Response   \n",
      "1065568388115595284               Nigeria                A   \n",
      "1065924770442522674  Durban, South Africa      No Response   \n",
      "1065948441353658388           No Response      No Response   \n",
      "1066024418087800892               Nigeria      No Response   \n",
      "1067383972499312671        Lagos, Nigeria                C   \n",
      "\n",
      "Question_Title             employment_status                  favorite_app  \\\n",
      "STUDENT_ID                                                                   \n",
      "829689559943479296               No Response                             c   \n",
      "872011308793471036               No Response                             D   \n",
      "880684860400873505                         C                   No Response   \n",
      "895700412106149899                   Student                   No Response   \n",
      "907555122723319858               No Response                   No Response   \n",
      "914658875834241054               No Response                             I   \n",
      "922614479542452284                         e                             D   \n",
      "932982740821872700             Self-employed         Twitter and Instagram   \n",
      "1030009694212870144              No Response                   h. whatsapp   \n",
      "1037395744786747412              No Response                   No Response   \n",
      "1040938229513343056                        D                   No Response   \n",
      "1064493525137371176                 Option c                   No Response   \n",
      "1064892608008167495                        D                   No Response   \n",
      "1064902702372507698              No Response  Twitter \\nYouTube \\nWhatsApp   \n",
      "1065564948048138290  c. Full-time employment                   h. WhatsApp   \n",
      "1065568388115595284                        C                             H   \n",
      "1065924770442522674              No Response                   No Response   \n",
      "1065948441353658388                        E                   No Response   \n",
      "1066024418087800892                        B                   No Response   \n",
      "1067383972499312671              No Response                      Ac, h, i   \n",
      "\n",
      "Question_Title                heard_about_from  \\\n",
      "STUDENT_ID                                       \n",
      "829689559943479296                 No Response   \n",
      "872011308793471036                 No Response   \n",
      "880684860400873505                           B   \n",
      "895700412106149899                 No Response   \n",
      "907555122723319858                 No Response   \n",
      "914658875834241054                           1   \n",
      "922614479542452284                 No Response   \n",
      "932982740821872700               Online search   \n",
      "1030009694212870144              online search   \n",
      "1037395744786747412                No Response   \n",
      "1040938229513343056                          C   \n",
      "1064493525137371176                No Response   \n",
      "1064892608008167495                          C   \n",
      "1064902702372507698  C. Referral from a friend   \n",
      "1065564948048138290            b. Social media   \n",
      "1065568388115595284                          C   \n",
      "1065924770442522674                No Response   \n",
      "1065948441353658388                No Response   \n",
      "1066024418087800892                No Response   \n",
      "1067383972499312671                          b   \n",
      "\n",
      "Question_Title                            most_impactful_experience  \\\n",
      "STUDENT_ID                                                            \n",
      "829689559943479296                                      No Response   \n",
      "872011308793471036                                      No Response   \n",
      "880684860400873505                     The meetings with moderators   \n",
      "895700412106149899                                      No Response   \n",
      "907555122723319858                       Thrive sessions & webinars   \n",
      "914658875834241054                                      No Response   \n",
      "922614479542452284                                      No Response   \n",
      "932982740821872700                        Working hands-on in teams   \n",
      "1030009694212870144                            ...new skills learnt   \n",
      "1037395744786747412                                     No Response   \n",
      "1040938229513343056                                     No Response   \n",
      "1064493525137371176                                     No Response   \n",
      "1064892608008167495  The course materials and the test of knowledge   \n",
      "1064902702372507698                                     No Response   \n",
      "1065564948048138290                                       b. Likely   \n",
      "1065568388115595284                                     No Response   \n",
      "1065924770442522674                                     No Response   \n",
      "1065948441353658388                                     No Response   \n",
      "1066024418087800892                                     No Response   \n",
      "1067383972499312671                                     No Response   \n",
      "\n",
      "Question_Title                        motivation_factors program_plan  \\\n",
      "STUDENT_ID                                                              \n",
      "829689559943479296                           No Response  No Response   \n",
      "872011308793471036                           No Response  No Response   \n",
      "880684860400873505                           No Response            B   \n",
      "895700412106149899   change in career, personal interest           FT   \n",
      "907555122723319858                                     d  No Response   \n",
      "914658875834241054                                     A  No Response   \n",
      "922614479542452284                           No Response            B   \n",
      "932982740821872700                           No Response           AC   \n",
      "1030009694212870144                  a. change in career  No Response   \n",
      "1037395744786747412                          No Response  No Response   \n",
      "1040938229513343056                          No Response  No Response   \n",
      "1064493525137371176                                    b  No Response   \n",
      "1064892608008167495                          No Response            B   \n",
      "1064902702372507698                          No Response        b. AC   \n",
      "1065564948048138290                          No Response        b. AC   \n",
      "1065568388115595284                          No Response            B   \n",
      "1065924770442522674                          No Response  No Response   \n",
      "1065948441353658388                          No Response  No Response   \n",
      "1066024418087800892                          No Response  No Response   \n",
      "1067383972499312671                                    a            a   \n",
      "\n",
      "Question_Title            relaxation_mode  \n",
      "STUDENT_ID                                 \n",
      "829689559943479296            No Response  \n",
      "872011308793471036            No Response  \n",
      "880684860400873505            No Response  \n",
      "895700412106149899            No Response  \n",
      "907555122723319858            No Response  \n",
      "914658875834241054          Watch a movie  \n",
      "922614479542452284                      C  \n",
      "932982740821872700   watch movies or read  \n",
      "1030009694212870144              browsing  \n",
      "1037395744786747412           No Response  \n",
      "1040938229513343056           No Response  \n",
      "1064493525137371176           No Response  \n",
      "1064892608008167495           No Response  \n",
      "1064902702372507698           No Response  \n",
      "1065564948048138290          Playing game  \n",
      "1065568388115595284            Relaxation  \n",
      "1065924770442522674           No Response  \n",
      "1065948441353658388           No Response  \n",
      "1066024418087800892           No Response  \n",
      "1067383972499312671           No Response  \n"
     ]
    }
   ],
   "source": [
    "from oauth2client.service_account import ServiceAccountCredentials\n",
    "from gspread_pandas import Spread\n",
    "\n",
    "scope = [\"https://spreadsheets.google.com/feeds\", \"https://www.googleapis.com/auth/drive\"]\n",
    "creds = ServiceAccountCredentials.from_json_keyfile_name(r'C:\\Users\\Hp\\Downloads\\explore-sed-e91f95f5477f.json', scope)\n",
    "gc = gspread.authorize(creds)\n",
    "\n",
    "Mavis_Records = \"exploreSED\"\n",
    "cleaned_data = gc.open(Mavis_Records).worksheet('Copy of ANS 2')\n",
    "\n",
    "cleaned_data.clear()\n",
    "\n",
    "# Copy the DataFrame to avoid modifying the original\n",
    "modified_df = filtered_df.copy()\n",
    "\n",
    "# Convert 'STUDENT_ID' to string in the DataFrame\n",
    "modified_df['STUDENT_ID'] = modified_df['STUDENT_ID'].astype(str)\n",
    "\n",
    "# Convert your DataFrame to a list of lists\n",
    "data = modified_df.values.tolist()\n",
    "\n",
    "# Convert your DataFrame to a list of lists\n",
    "# data = filtered_df.values.tolist()\n",
    "\n",
    "header = filtered_df.columns.tolist()\n",
    "cleaned_data.insert_rows([header], 1)\n",
    "\n",
    "# Write the data to the worksheet starting from the second row (index 2)\n",
    "cleaned_data.insert_rows(data, 2)\n",
    "\n",
    "\n",
    "\n",
    "# Pivot the DataFrame to have students as rows and questions as columns\n",
    "pivoted_df = filtered_df.pivot(index='STUDENT_ID', columns='Question_Title', values='Response')\n",
    "\n",
    "# Fill NaN values with 'No Response'\n",
    "pivoted_df = pivoted_df.fillna('No Response')\n",
    "\n",
    "# Print the pivoted DataFrame\n",
    "print(pivoted_df)"
   ]
  },
  {
   "cell_type": "code",
   "execution_count": 64,
   "id": "af508786-a50b-4aa3-9c2c-ab0344c01265",
   "metadata": {},
   "outputs": [
    {
     "name": "stdout",
     "output_type": "stream",
     "text": [
      "STUDENT_ID\n",
      "829689559943479296                                       Yes. I am aware\n",
      "872011308793471036     I have limited awareness and would like more i...\n",
      "880684860400873505     I have limited awareness and would like more i...\n",
      "895700412106149899                                           No Response\n",
      "907555122723319858                                           No Response\n",
      "914658875834241054     I have limited awareness and would like more i...\n",
      "922614479542452284                                    No. I am not aware\n",
      "932982740821872700                                    No. I am not aware\n",
      "1030009694212870144                                   No. I am not aware\n",
      "1037395744786747412                                          No Response\n",
      "1040938229513343056                                          No Response\n",
      "1064493525137371176                                          No Response\n",
      "1064892608008167495    I have limited awareness and would like more i...\n",
      "1064902702372507698    I have limited awareness and would like more i...\n",
      "1065564948048138290                                   No. I am not aware\n",
      "1065568388115595284                                   No. I am not aware\n",
      "1065924770442522674                                          No Response\n",
      "1065948441353658388                                          No Response\n",
      "1066024418087800892                                          No Response\n",
      "1067383972499312671                                          No Response\n",
      "Name: access_to_additional_support, dtype: object\n"
     ]
    }
   ],
   "source": [
    "pivoted_df['access_to_additional_support'] = pivoted_df['access_to_additional_support'].replace({'a': 'Yes. I am aware', 'A': 'Yes. I am aware',\n",
    "                                                                                                 'b': 'I have limited awareness and would like more information',\n",
    "                                                                                                 'B': 'I have limited awareness and would like more information', \n",
    "                                                                                                 'b I have limited awareness and would like more information': 'I have limited awareness and would like more information',\n",
    "                                                                                                 'c': 'No. I am not aware', 'C': 'No. I am not aware', \n",
    "                                                                                                 'No, I am not aware of thwse resources': 'No. I am not aware',\n",
    "                                                                                                 'c. No. I am not aware': 'No. I am not aware',\n",
    "                                                                                                 'c. Full-time employment': 'No. I am not aware',\n",
    "                                                                                                 'No. I am not aware of these resources': 'No. I am not aware'})\n",
    "print(pivoted_df['access_to_additional_support'])"
   ]
  },
  {
   "cell_type": "code",
   "execution_count": 77,
   "id": "89d8cad1-d5bd-4619-9d82-be1eedb50d29",
   "metadata": {},
   "outputs": [
    {
     "data": {
      "image/png": "[encoded data removed]",
      "text/plain": [
       "<Figure size 640x480 with 1 Axes>"
      ]
     },
     "metadata": {},
     "output_type": "display_data"
    },
    {
     "name": "stdout",
     "output_type": "stream",
     "text": [
      "No Response                                                 9\n",
      "I have limited awareness and would like more information    5\n",
      "No. I am not aware                                          5\n",
      "Yes. I am aware                                             1\n",
      "Name: access_to_additional_support, dtype: int64\n"
     ]
    }
   ],
   "source": [
    "awareness_count = pivoted_df['access_to_additional_support'].value_counts()\n",
    "\n",
    "# Plot the count in a bar graph\n",
    "ax = awareness_count.plot(kind='bar', rot=0) \n",
    "ax.set_title('Students awareness of additional support resources')\n",
    "ax.set_xlabel('Value')\n",
    "ax.set_ylabel('Count')\n",
    "\n",
    "ax.set_xticklabels([text[:24] + '\\n' + text[24:] for text in count.index])\n",
    "\n",
    "# Wrap the labels\n",
    "plt.xticks(rotation=0, ha='center', fontsize=7)\n",
    "\n",
    "plt.show()\n",
    "\n",
    "print(awareness_count)"
   ]
  },
  {
   "cell_type": "code",
   "execution_count": 72,
   "id": "06219deb-1a3e-48c2-8072-6284c344f152",
   "metadata": {},
   "outputs": [
    {
     "name": "stdout",
     "output_type": "stream",
     "text": [
      "['No Response' 'E' 'C' 'b' '36-40' 'g' 'd.' 'c. 26-30' 'c.' 'D' 'i']\n"
     ]
    }
   ],
   "source": [
    "print(pivoted_df['age'].unique())"
   ]
  },
  {
   "cell_type": "code",
   "execution_count": 75,
   "id": "56acdbf5-c225-4d18-b278-b7d7bb6b7d85",
   "metadata": {},
   "outputs": [
    {
     "name": "stdout",
     "output_type": "stream",
     "text": [
      "STUDENT_ID\n",
      "829689559943479296     No Response\n",
      "872011308793471036           36-40\n",
      "880684860400873505           26-30\n",
      "895700412106149899     No Response\n",
      "907555122723319858           21-25\n",
      "914658875834241054           26-30\n",
      "922614479542452284     No Response\n",
      "932982740821872700           36-40\n",
      "1030009694212870144          46-50\n",
      "1037395744786747412    No Response\n",
      "1040938229513343056    No Response\n",
      "1064493525137371176          31-35\n",
      "1064892608008167495          26-30\n",
      "1064902702372507698          26-30\n",
      "1065564948048138290          26-30\n",
      "1065568388115595284          31-35\n",
      "1065924770442522674    No Response\n",
      "1065948441353658388          56-60\n",
      "1066024418087800892    No Response\n",
      "1067383972499312671    No Response\n",
      "Name: age, dtype: object\n"
     ]
    }
   ],
   "source": [
    "pivoted_df['age'] = pivoted_df['age'].replace({'a': '16-20', 'b': '21-25', 'c': '26-30', 'c. 26-30': '26-30', 'c.': '26-30', \n",
    "                                               'C': '26-30', 'd.': '31-35', 'd': '31-35', 'D': '31-35', 'e': '36-40', \n",
    "                                               'E': '36-40', 'f': '41-45', 'g': '46-50', 'h': '51-55', 'i': '56-60'})\n",
    "print(pivoted_df['age'])"
   ]
  },
  {
   "cell_type": "code",
   "execution_count": 81,
   "id": "23c814d3-fa28-4761-babb-322263db58df",
   "metadata": {},
   "outputs": [
    {
     "data": {
      "image/png": "[encoded data removed]",
      "text/plain": [
       "<Figure size 640x480 with 1 Axes>"
      ]
     },
     "metadata": {},
     "output_type": "display_data"
    },
    {
     "name": "stdout",
     "output_type": "stream",
     "text": [
      "No Response    8\n",
      "26-30          5\n",
      "36-40          2\n",
      "31-35          2\n",
      "21-25          1\n",
      "46-50          1\n",
      "56-60          1\n",
      "Name: age, dtype: int64\n"
     ]
    }
   ],
   "source": [
    "age_count = pivoted_df['age'].value_counts()\n",
    "\n",
    "# Plot the count in a bar graph\n",
    "age = age_count.plot(kind='bar', rot=0) \n",
    "age.set_title('Students Age')\n",
    "age.set_xlabel('Value')\n",
    "age.set_ylabel('Count')\n",
    "\n",
    "# age.set_xticklabels([text[:24] + '\\n' + text[24:] for text in count.index])\n",
    "\n",
    "# Wrap the labels\n",
    "plt.xticks(rotation=0, ha='center', fontsize=7)\n",
    "\n",
    "plt.show()\n",
    "\n",
    "print(age_count)"
   ]
  },
  {
   "cell_type": "code",
   "execution_count": 83,
   "id": "531201be-960d-4866-8e6c-166490d96847",
   "metadata": {},
   "outputs": [
    {
     "name": "stdout",
     "output_type": "stream",
     "text": [
      "['d' 'No Response' 'D' 'I have limited awareness'\n",
      " 'Business Analyst or Data Scientist' 'd. Data Scientist'\n",
      " 'd. Data scientist' 'c']\n"
     ]
    }
   ],
   "source": [
    "print(pivoted_df['career_aspiration'].unique())"
   ]
  },
  {
   "cell_type": "code",
   "execution_count": 84,
   "id": "8b67600d-e4af-4d80-917f-47b23983fc3e",
   "metadata": {},
   "outputs": [
    {
     "name": "stdout",
     "output_type": "stream",
     "text": [
      "STUDENT_ID\n",
      "829689559943479296       Data Scientist\n",
      "872011308793471036          No Response\n",
      "880684860400873505       Data Scientist\n",
      "895700412106149899         Data Analyst\n",
      "907555122723319858       Data Scientist\n",
      "914658875834241054       Data Scientist\n",
      "922614479542452284          No Response\n",
      "932982740821872700     Business Analyst\n",
      "1030009694212870144      Data Scientist\n",
      "1037395744786747412      Data Scientist\n",
      "1040938229513343056         No Response\n",
      "1064493525137371176         No Response\n",
      "1064892608008167495      Data Scientist\n",
      "1064902702372507698         No Response\n",
      "1065564948048138290      Data Scientist\n",
      "1065568388115595284         No Response\n",
      "1065924770442522674         No Response\n",
      "1065948441353658388         No Response\n",
      "1066024418087800892         No Response\n",
      "1067383972499312671       Data Engineer\n",
      "Name: career_aspiration, dtype: object\n"
     ]
    }
   ],
   "source": [
    "pivoted_df['career_aspiration'] = pivoted_df['career_aspiration'].replace({'a': 'Business Analyst', 'b': 'Data Analyst', 'I have limited awareness': 'Data Analyst',\n",
    "                                                                           'c': 'Data Engineer', 'd': 'Data Scientist', 'd. Data Scientist': 'Data Scientist', \n",
    "                                                                           'd. Data scientist': 'Data Scientist', 'D': 'Data Scientist', 'e': 'DevOps', \n",
    "                                                                           'f': 'Entrepreneur', 'g': 'Software Engineer', 'h': 'Others', \n",
    "                                                                           'Business Analyst or Data Scientist': 'Business Analyst'})\n",
    "print(pivoted_df['career_aspiration'])"
   ]
  },
  {
   "cell_type": "code",
   "execution_count": 85,
   "id": "ff17f3a6-e403-41de-ac42-de8cd6b4146a",
   "metadata": {},
   "outputs": [
    {
     "data": {
      "image/png": "[encoded data removed]",
      "text/plain": [
       "<Figure size 640x480 with 1 Axes>"
      ]
     },
     "metadata": {},
     "output_type": "display_data"
    },
    {
     "name": "stdout",
     "output_type": "stream",
     "text": [
      "No Response         9\n",
      "Data Scientist      8\n",
      "Data Analyst        1\n",
      "Business Analyst    1\n",
      "Data Engineer       1\n",
      "Name: career_aspiration, dtype: int64\n"
     ]
    }
   ],
   "source": [
    "career_count = pivoted_df['career_aspiration'].value_counts()\n",
    "\n",
    "# Plot the count in a bar graph\n",
    "career = career_count.plot(kind='bar', rot=0) \n",
    "career.set_title('Career Aspiration')\n",
    "career.set_xlabel('Value')\n",
    "career.set_ylabel('Count')\n",
    "\n",
    "# age.set_xticklabels([text[:24] + '\\n' + text[24:] for text in count.index])\n",
    "\n",
    "# Wrap the labels\n",
    "plt.xticks(rotation=0, ha='center', fontsize=7)\n",
    "\n",
    "plt.show()\n",
    "\n",
    "print(career_count)"
   ]
  },
  {
   "cell_type": "code",
   "execution_count": 87,
   "id": "dd494e56-36ee-4080-a29c-17576e2e358c",
   "metadata": {},
   "outputs": [
    {
     "name": "stdout",
     "output_type": "stream",
     "text": [
      "['No Response' 'Business' 'Automotive' 'A'\n",
      " 'Healthcare. Finance. Military. Business' 'Telecom' 'Education'\n",
      " 'No, any sector is fine' 'Healthcare' 'C']\n"
     ]
    }
   ],
   "source": [
    "print(pivoted_df['career_sector'].unique())"
   ]
  },
  {
   "cell_type": "code",
   "execution_count": 88,
   "id": "3fd622c4-96c4-4c7a-9e11-9c6dd807c383",
   "metadata": {},
   "outputs": [
    {
     "name": "stdout",
     "output_type": "stream",
     "text": [
      "STUDENT_ID\n",
      "829689559943479296            No Response\n",
      "872011308793471036            No Response\n",
      "880684860400873505               Business\n",
      "895700412106149899            No Response\n",
      "907555122723319858            No Response\n",
      "914658875834241054             Automotive\n",
      "922614479542452284                Finance\n",
      "932982740821872700     Open to any sector\n",
      "1030009694212870144               Telecom\n",
      "1037395744786747412           No Response\n",
      "1040938229513343056           No Response\n",
      "1064493525137371176           No Response\n",
      "1064892608008167495             Education\n",
      "1064902702372507698    Open to any sector\n",
      "1065564948048138290            Healthcare\n",
      "1065568388115595284              Military\n",
      "1065924770442522674           No Response\n",
      "1065948441353658388           No Response\n",
      "1066024418087800892           No Response\n",
      "1067383972499312671           No Response\n",
      "Name: career_sector, dtype: object\n"
     ]
    }
   ],
   "source": [
    "pivoted_df['career_sector'] = pivoted_df['career_sector'].replace({'A': 'Finance', 'No, any sector is fine': 'Open to any sector',\n",
    "                                                                   'Healthcare. Finance. Military. Business': 'Open to any sector',\n",
    "                                                                  'C': 'Military'})\n",
    "print(pivoted_df['career_sector'])"
   ]
  },
  {
   "cell_type": "code",
   "execution_count": 94,
   "id": "698920c0-ceca-41c3-8aec-a2e02e4138c5",
   "metadata": {},
   "outputs": [
    {
     "data": {
      "image/png": "[encoded data removed]",
      "text/plain": [
       "<Figure size 640x480 with 1 Axes>"
      ]
     },
     "metadata": {},
     "output_type": "display_data"
    },
    {
     "name": "stdout",
     "output_type": "stream",
     "text": [
      "No Response           11\n",
      "Open to any sector     2\n",
      "Business               1\n",
      "Automotive             1\n",
      "Finance                1\n",
      "Telecom                1\n",
      "Education              1\n",
      "Healthcare             1\n",
      "Military               1\n",
      "Name: career_sector, dtype: int64\n"
     ]
    }
   ],
   "source": [
    "sector_count = pivoted_df['career_sector'].value_counts()\n",
    "\n",
    "# Plot the count in a bar graph\n",
    "sector = sector_count.plot(kind='bar', rot=0) \n",
    "sector.set_title('Industry/Sector Aspiration')\n",
    "sector.set_xlabel('Value')\n",
    "sector.set_ylabel('Count')\n",
    "\n",
    "sector.set_xticklabels([text[:10] + '\\n' + text[10:] for text in sector_count.index])\n",
    "\n",
    "# Wrap the labels\n",
    "plt.xticks(rotation=0, ha='center', fontsize=6.5)\n",
    "\n",
    "plt.show()\n",
    "\n",
    "print(sector_count)"
   ]
  },
  {
   "cell_type": "code",
   "execution_count": 95,
   "id": "c16d823e-7bcd-41f1-8236-ac3d6ca837ca",
   "metadata": {},
   "outputs": [
    {
     "name": "stdout",
     "output_type": "stream",
     "text": [
      "['b' 'No Response' 'B' 'Highly likely' 'a. Highly likely' 'A']\n"
     ]
    }
   ],
   "source": [
    "print(pivoted_df['course_confidence'].unique())"
   ]
  },
  {
   "cell_type": "code",
   "execution_count": 96,
   "id": "7266a3f2-7349-40c3-9931-bf9a841723d2",
   "metadata": {},
   "outputs": [
    {
     "name": "stdout",
     "output_type": "stream",
     "text": [
      "STUDENT_ID\n",
      "829689559943479296            Likely\n",
      "872011308793471036       No Response\n",
      "880684860400873505       No Response\n",
      "895700412106149899       No Response\n",
      "907555122723319858       No Response\n",
      "914658875834241054            Likely\n",
      "922614479542452284            Likely\n",
      "932982740821872700     Highly likely\n",
      "1030009694212870144    Highly likely\n",
      "1037395744786747412      No Response\n",
      "1040938229513343056      No Response\n",
      "1064493525137371176      No Response\n",
      "1064892608008167495      No Response\n",
      "1064902702372507698      No Response\n",
      "1065564948048138290    Highly likely\n",
      "1065568388115595284    Highly likely\n",
      "1065924770442522674      No Response\n",
      "1065948441353658388      No Response\n",
      "1066024418087800892           Likely\n",
      "1067383972499312671      No Response\n",
      "Name: course_confidence, dtype: object\n"
     ]
    }
   ],
   "source": [
    "pivoted_df['course_confidence'] = pivoted_df['course_confidence'].replace({'a': 'Highly likely', 'A': 'Highly likely', \n",
    "                                                                           'a. Highly likely': 'Highly likely', 'b': 'Likely', \n",
    "                                                                           'B': 'Likely', 'c': 'Neutral', 'd': 'Unlikely', \n",
    "                                                                           'e': 'Highly unlikely'})\n",
    "print(pivoted_df['course_confidence'])"
   ]
  },
  {
   "cell_type": "code",
   "execution_count": 101,
   "id": "e1cbac1e-777b-44c9-937c-26a742b85115",
   "metadata": {},
   "outputs": [
    {
     "data": {
      "image/png": "[encoded data removed]",
      "text/plain": [
       "<Figure size 640x480 with 1 Axes>"
      ]
     },
     "metadata": {},
     "output_type": "display_data"
    },
    {
     "name": "stdout",
     "output_type": "stream",
     "text": [
      "No Response      12\n",
      "Likely            4\n",
      "Highly likely     4\n",
      "Name: course_confidence, dtype: int64\n"
     ]
    }
   ],
   "source": [
    "recruitment_count = pivoted_df['course_confidence'].value_counts()\n",
    "\n",
    "# Plot the count in a bar graph\n",
    "recruitment = recruitment_count.plot(kind='bar', rot=0) \n",
    "recruitment.set_title('Student\\'s Confidence in Ability to be Recruited')\n",
    "recruitment.set_xlabel('Value')\n",
    "recruitment.set_ylabel('Count')\n",
    "\n",
    "# recruitment.set_xticklabels([text[:11] + '\\n' + text[11:] for text in recruitment_count.index])\n",
    "\n",
    "# Wrap the labels\n",
    "plt.xticks(rotation=0, ha='center', fontsize=8)\n",
    "\n",
    "plt.show()\n",
    "\n",
    "print(recruitment_count)"
   ]
  },
  {
   "cell_type": "code",
   "execution_count": 103,
   "id": "b58c39c5-f77a-4cb0-9c42-933196b3764f",
   "metadata": {},
   "outputs": [
    {
     "name": "stdout",
     "output_type": "stream",
     "text": [
      "['b' 'No Response' 'A' 'Satisfied' 'B' 'a. Very Satisfied']\n"
     ]
    }
   ],
   "source": [
    "print(pivoted_df['course_satisfaction'].unique())"
   ]
  },
  {
   "cell_type": "code",
   "execution_count": 104,
   "id": "bdf19438-4bb6-497e-9bea-4356fb147610",
   "metadata": {},
   "outputs": [
    {
     "name": "stdout",
     "output_type": "stream",
     "text": [
      "STUDENT_ID\n",
      "829689559943479296          Satisfied\n",
      "872011308793471036        No Response\n",
      "880684860400873505     Very satisfied\n",
      "895700412106149899          Satisfied\n",
      "907555122723319858        No Response\n",
      "914658875834241054          Satisfied\n",
      "922614479542452284        No Response\n",
      "932982740821872700          Satisfied\n",
      "1030009694212870144       No Response\n",
      "1037395744786747412       No Response\n",
      "1040938229513343056       No Response\n",
      "1064493525137371176       No Response\n",
      "1064892608008167495         Satisfied\n",
      "1064902702372507698       No Response\n",
      "1065564948048138290    Very satisfied\n",
      "1065568388115595284         Satisfied\n",
      "1065924770442522674       No Response\n",
      "1065948441353658388       No Response\n",
      "1066024418087800892         Satisfied\n",
      "1067383972499312671       No Response\n",
      "Name: course_satisfaction, dtype: object\n"
     ]
    }
   ],
   "source": [
    "pivoted_df['course_satisfaction'] = pivoted_df['course_satisfaction'].replace({'a': 'Very satisfied', 'a. Very Satisfied': 'Very satisfied',\n",
    "                                                                           'A': 'Very satisfied', 'b': 'Satisfied', 'B': 'Satisfied', \n",
    "                                                                           'c': 'Neutral', 'd': 'Dissatisfied', 'e': 'Very dissatisfied'})\n",
    "print(pivoted_df['course_satisfaction'])"
   ]
  },
  {
   "cell_type": "code",
   "execution_count": 105,
   "id": "3e62fd07-8851-4700-a3d3-a5d52c9ef86a",
   "metadata": {},
   "outputs": [
    {
     "data": {
      "image/png": "[encoded data removed]",
      "text/plain": [
       "<Figure size 640x480 with 1 Axes>"
      ]
     },
     "metadata": {},
     "output_type": "display_data"
    },
    {
     "name": "stdout",
     "output_type": "stream",
     "text": [
      "No Response       11\n",
      "Satisfied          7\n",
      "Very satisfied     2\n",
      "Name: course_satisfaction, dtype: int64\n"
     ]
    }
   ],
   "source": [
    "satisfaction_count = pivoted_df['course_satisfaction'].value_counts()\n",
    "\n",
    "# Plot the count in a bar graph\n",
    "satisfaction = satisfaction_count.plot(kind='bar', rot=0) \n",
    "satisfaction.set_title('Student\\'s Overall Satisfaction with their Data Science/Engineering Course')\n",
    "satisfaction.set_xlabel('Value')\n",
    "satisfaction.set_ylabel('Count')\n",
    "\n",
    "# recruitment.set_xticklabels([text[:11] + '\\n' + text[11:] for text in recruitment_count.index])\n",
    "\n",
    "# Wrap the labels\n",
    "plt.xticks(rotation=0, ha='center', fontsize=8)\n",
    "\n",
    "plt.show()\n",
    "\n",
    "print(satisfaction_count)"
   ]
  },
  {
   "cell_type": "code",
   "execution_count": 107,
   "id": "98b954e6-8e7b-47dd-b4cd-6600412b5fa4",
   "metadata": {},
   "outputs": [
    {
     "name": "stdout",
     "output_type": "stream",
     "text": [
      "['Healthcare' 'B' 'No Response' 'A' 'Data Science' 'a. Data Science'\n",
      " 'A. Data Science']\n"
     ]
    }
   ],
   "source": [
    "print(pivoted_df['course_title'].unique())"
   ]
  },
  {
   "cell_type": "code",
   "execution_count": 108,
   "id": "326c58db-91fd-4088-98c4-aec4033016a3",
   "metadata": {},
   "outputs": [
    {
     "name": "stdout",
     "output_type": "stream",
     "text": [
      "STUDENT_ID\n",
      "829689559943479296         Data Science\n",
      "872011308793471036     Data Engineering\n",
      "880684860400873505          No Response\n",
      "895700412106149899          No Response\n",
      "907555122723319858          No Response\n",
      "914658875834241054         Data Science\n",
      "922614479542452284          No Response\n",
      "932982740821872700         Data Science\n",
      "1030009694212870144        Data Science\n",
      "1037395744786747412         No Response\n",
      "1040938229513343056         No Response\n",
      "1064493525137371176         No Response\n",
      "1064892608008167495        Data Science\n",
      "1064902702372507698        Data Science\n",
      "1065564948048138290        Data Science\n",
      "1065568388115595284         No Response\n",
      "1065924770442522674         No Response\n",
      "1065948441353658388         No Response\n",
      "1066024418087800892         No Response\n",
      "1067383972499312671         No Response\n",
      "Name: course_title, dtype: object\n"
     ]
    }
   ],
   "source": [
    "pivoted_df['course_title'] = pivoted_df['course_title'].replace({'a': 'Data Science', 'A': 'Data Science', \n",
    "                                                                 'a. Data Science': 'Data Science', \n",
    "                                                                 'A. Data Science': 'Data Science', 'Healthcare': 'Data Science',\n",
    "                                                                 'b': 'Data Engineering', 'B': 'Data Engineering'})\n",
    "print(pivoted_df['course_title'])"
   ]
  },
  {
   "cell_type": "code",
   "execution_count": 109,
   "id": "5179193a-29a1-4ad6-9257-8edf040145da",
   "metadata": {},
   "outputs": [
    {
     "data": {
      "image/png": "[encoded data removed]",
      "text/plain": [
       "<Figure size 640x480 with 1 Axes>"
      ]
     },
     "metadata": {},
     "output_type": "display_data"
    },
    {
     "name": "stdout",
     "output_type": "stream",
     "text": [
      "No Response         12\n",
      "Data Science         7\n",
      "Data Engineering     1\n",
      "Name: course_title, dtype: int64\n"
     ]
    }
   ],
   "source": [
    "title_count = pivoted_df['course_title'].value_counts()\n",
    "\n",
    "# Plot the count in a bar graph\n",
    "course_title = title_count.plot(kind='bar', rot=0) \n",
    "course_title.set_title('Student\\'s Overall Satisfaction with their Data Science/Engineering Course')\n",
    "course_title.set_xlabel('Value')\n",
    "course_title.set_ylabel('Count')\n",
    "\n",
    "# recruitment.set_xticklabels([text[:11] + '\\n' + text[11:] for text in recruitment_count.index])\n",
    "\n",
    "# Wrap the labels\n",
    "plt.xticks(rotation=0, ha='center', fontsize=8)\n",
    "\n",
    "plt.show()\n",
    "\n",
    "print(title_count)"
   ]
  },
  {
   "cell_type": "code",
   "execution_count": 111,
   "id": "0fb48891-4990-43d6-83f4-c56bdbbef1b9",
   "metadata": {},
   "outputs": [
    {
     "name": "stdout",
     "output_type": "stream",
     "text": [
      "['No Response' 'Lagos' 'Northern Cape' 'Lagos, Nigeria' 'Ibadan, Nigeria'\n",
      " 'Abeokuta, Nigeria' 'Benin-City, Nigeria' 'Sure, Mavi' 'Ilorin, Nigeria'\n",
      " 'Osogbo, Nigeria' 'Nigeria' 'Durban, South Africa']\n"
     ]
    }
   ],
   "source": [
    "print(pivoted_df['current_location'].unique())"
   ]
  },
  {
   "cell_type": "code",
   "execution_count": 113,
   "id": "d9122d72-4010-406f-a205-04dd9bb60246",
   "metadata": {},
   "outputs": [
    {
     "name": "stdout",
     "output_type": "stream",
     "text": [
      "STUDENT_ID\n",
      "829689559943479296                     No Response\n",
      "872011308793471036                     No Response\n",
      "880684860400873505                  Lagos, Nigeria\n",
      "895700412106149899     Northern Cape, South Africa\n",
      "907555122723319858                     No Response\n",
      "914658875834241054                  Lagos, Nigeria\n",
      "922614479542452284                 Ibadan, Nigeria\n",
      "932982740821872700                  Lagos, Nigeria\n",
      "1030009694212870144              Abeokuta, Nigeria\n",
      "1037395744786747412            Benin-City, Nigeria\n",
      "1040938229513343056                    No Response\n",
      "1064493525137371176                 Lagos, Nigeria\n",
      "1064892608008167495                Ilorin, Nigeria\n",
      "1064902702372507698                    No Response\n",
      "1065564948048138290                Osogbo, Nigeria\n",
      "1065568388115595284                 Lagos, Nigeria\n",
      "1065924770442522674           Durban, South Africa\n",
      "1065948441353658388                    No Response\n",
      "1066024418087800892                 Lagos, Nigeria\n",
      "1067383972499312671                 Lagos, Nigeria\n",
      "Name: current_location, dtype: object\n"
     ]
    }
   ],
   "source": [
    "pivoted_df['current_location'] = pivoted_df['current_location'].replace({'Lagos': 'Lagos, Nigeria', \n",
    "                                                                         'Northern Cape': 'Northern Cape, South Africa',\n",
    "                                                                         'Sure, Mavi': 'Lagos, Nigeria', \n",
    "                                                                         'Nigeria': 'Lagos, Nigeria'})\n",
    "print(pivoted_df['current_location'])"
   ]
  },
  {
   "cell_type": "code",
   "execution_count": 125,
   "id": "e97ca955-e49b-45e7-bce6-fe10ba97c4e8",
   "metadata": {},
   "outputs": [
    {
     "data": {
      "image/png": "[encoded data removed]",
      "text/plain": [
       "<Figure size 640x480 with 1 Axes>"
      ]
     },
     "metadata": {},
     "output_type": "display_data"
    },
    {
     "name": "stdout",
     "output_type": "stream",
     "text": [
      "Lagos, Nigeria                 7\n",
      "No Response                    6\n",
      "Northern Cape, South Africa    1\n",
      "Ibadan, Nigeria                1\n",
      "Abeokuta, Nigeria              1\n",
      "Benin-City, Nigeria            1\n",
      "Ilorin, Nigeria                1\n",
      "Osogbo, Nigeria                1\n",
      "Durban, South Africa           1\n",
      "Name: current_location, dtype: int64\n"
     ]
    }
   ],
   "source": [
    "location_count = pivoted_df['current_location'].value_counts()\n",
    "\n",
    "# Plot the count in a bar graph\n",
    "location = location_count.plot(kind='bar') \n",
    "# , rot=0\n",
    "location.set_title('Student\\'s Overall Satisfaction with their Data Science/Engineering Course')\n",
    "location.set_xlabel('Value')\n",
    "location.set_ylabel('Count')\n",
    "\n",
    "recruitment.set_xticklabels([text[:6] + '\\n' + text[6:] for text in recruitment_count.index])\n",
    "\n",
    "# Wrap the labels\n",
    "plt.xticks(ha='center', fontsize=8)\n",
    "# rotation=0, \n",
    "\n",
    "plt.show()\n",
    "\n",
    "print(location_count)"
   ]
  },
  {
   "cell_type": "code",
   "execution_count": 126,
   "id": "fc615470-8cda-4baa-97b4-0fc9f6ebf42b",
   "metadata": {},
   "outputs": [
    {
     "name": "stdout",
     "output_type": "stream",
     "text": [
      "No Response        9\n",
      "C                  2\n",
      "b                  1\n",
      "D                  1\n",
      "d                  1\n",
      "Ph.D.              1\n",
      "Masters Degree     1\n",
      "Master's Degree    1\n",
      "G                  1\n",
      "d. Bachelor's      1\n",
      "A                  1\n",
      "Name: education, dtype: int64\n"
     ]
    }
   ],
   "source": [
    "print(pivoted_df['education'].value_counts())"
   ]
  },
  {
   "cell_type": "code",
   "execution_count": 127,
   "id": "dbbc7af4-77f7-4735-a408-05b0968e2e01",
   "metadata": {},
   "outputs": [
    {
     "name": "stdout",
     "output_type": "stream",
     "text": [
      "STUDENT_ID\n",
      "829689559943479296         Certificate\n",
      "872011308793471036         No Response\n",
      "880684860400873505          Bachelor's\n",
      "895700412106149899         No Response\n",
      "907555122723319858          Bachelor's\n",
      "914658875834241054             Diploma\n",
      "922614479542452284         No Response\n",
      "932982740821872700               Ph.D.\n",
      "1030009694212870144    Master's Degree\n",
      "1037395744786747412    Master's Degree\n",
      "1040938229513343056        No Response\n",
      "1064493525137371176        No Response\n",
      "1064892608008167495              Ph.D.\n",
      "1064902702372507698         Bachelor's\n",
      "1065564948048138290        No Response\n",
      "1065568388115595284        High School\n",
      "1065924770442522674        No Response\n",
      "1065948441353658388        No Response\n",
      "1066024418087800892        No Response\n",
      "1067383972499312671            Diploma\n",
      "Name: education, dtype: object\n"
     ]
    }
   ],
   "source": [
    "pivoted_df['education'] = pivoted_df['education'].replace({'a': 'High School', 'A': 'High School', 'b': 'Certificate', \n",
    "                                                           'B': 'Certificate', 'c': 'Diploma', 'C': 'Diploma', \n",
    "                                                           'd': 'Bachelor\\'s', 'd. Bachelor\\'s': 'Bachelor\\'s', 'D': 'Bachelor\\'s', \n",
    "                                                           'e': 'Degree', 'f': 'Master\\'s Degree', 'Masters Degree': 'Master\\'s Degree', \n",
    "                                                           'g': 'Ph.D.', 'G': 'Ph.D.', 'h': 'Other'})\n",
    "print(pivoted_df['education'])"
   ]
  },
  {
   "cell_type": "code",
   "execution_count": 128,
   "id": "d8720e67-6850-40e5-9f50-856e7e3b8105",
   "metadata": {},
   "outputs": [
    {
     "data": {
      "image/png": "[encoded data removed]",
      "text/plain": [
       "<Figure size 640x480 with 1 Axes>"
      ]
     },
     "metadata": {},
     "output_type": "display_data"
    },
    {
     "name": "stdout",
     "output_type": "stream",
     "text": [
      "No Response        9\n",
      "Bachelor's         3\n",
      "Diploma            2\n",
      "Ph.D.              2\n",
      "Master's Degree    2\n",
      "Certificate        1\n",
      "High School        1\n",
      "Name: education, dtype: int64\n"
     ]
    }
   ],
   "source": [
    "education_count = pivoted_df['education'].value_counts()\n",
    "\n",
    "# Plot the count in a bar graph\n",
    "education = education_count.plot(kind='bar') \n",
    "# , rot=0\n",
    "education.set_title('Student\\'s Highest Degree')\n",
    "education.set_xlabel('Value')\n",
    "education.set_ylabel('Count')\n",
    "\n",
    "# recruitment.set_xticklabels([text[:6] + '\\n' + text[6:] for text in recruitment_count.index])\n",
    "\n",
    "# Wrap the labels\n",
    "plt.xticks(ha='center', fontsize=8)\n",
    "# rotation=0, \n",
    "\n",
    "plt.show()\n",
    "\n",
    "print(education_count)"
   ]
  },
  {
   "cell_type": "code",
   "execution_count": 129,
   "id": "379c2a93-d51b-4027-a79d-4957552e3422",
   "metadata": {},
   "outputs": [
    {
     "name": "stdout",
     "output_type": "stream",
     "text": [
      "No Response                9\n",
      "C                          2\n",
      "D                          2\n",
      "Student                    1\n",
      "e                          1\n",
      "Self-employed              1\n",
      "Option c                   1\n",
      "c. Full-time employment    1\n",
      "E                          1\n",
      "B                          1\n",
      "Name: employment_status, dtype: int64\n"
     ]
    }
   ],
   "source": [
    "print(pivoted_df['employment_status'].value_counts())"
   ]
  },
  {
   "cell_type": "code",
   "execution_count": 134,
   "id": "5d81597d-9ee3-4eae-b814-1e26b464dd08",
   "metadata": {},
   "outputs": [
    {
     "name": "stdout",
     "output_type": "stream",
     "text": [
      "STUDENT_ID\n",
      "829689559943479296              No Response\n",
      "872011308793471036              No Response\n",
      "880684860400873505     Full-time employment\n",
      "895700412106149899                  Student\n",
      "907555122723319858              No Response\n",
      "914658875834241054              No Response\n",
      "922614479542452284            Self-employed\n",
      "932982740821872700            Self-employed\n",
      "1030009694212870144             No Response\n",
      "1037395744786747412             No Response\n",
      "1040938229513343056    Part time employment\n",
      "1064493525137371176    Full-time employment\n",
      "1064892608008167495    Part time employment\n",
      "1064902702372507698             No Response\n",
      "1065564948048138290    Full-time employment\n",
      "1065568388115595284    Full-time employment\n",
      "1065924770442522674             No Response\n",
      "1065948441353658388           Self-employed\n",
      "1066024418087800892     Contract employment\n",
      "1067383972499312671             No Response\n",
      "Name: employment_status, dtype: object\n"
     ]
    }
   ],
   "source": [
    "pivoted_df['employment_status'] = pivoted_df['employment_status'].replace({'a': 'Student', 'b': 'Contract employment', \n",
    "                                                                           'B': 'Contract employment', 'c': 'Full-time employment', \n",
    "                                                                           'c. Full-time employment': 'Full-time employment', \n",
    "                                                                           'Option c': 'Full-time employment', 'C': 'Full-time employment',\n",
    "                                                                           'd': 'Part time employment', 'D': 'Part time employment', \n",
    "                                                                           'e': 'Self-employed', 'E': 'Self-employed', \n",
    "                                                                           'Self-employed or freelancer': 'Self-employed', 'f': 'Other'})\n",
    "print(pivoted_df['employment_status'])"
   ]
  },
  {
   "cell_type": "code",
   "execution_count": 135,
   "id": "52477a44-d186-42f8-ad16-cba692587fb3",
   "metadata": {},
   "outputs": [
    {
     "data": {
      "image/png": "[encoded data removed]",
      "text/plain": [
       "<Figure size 640x480 with 1 Axes>"
      ]
     },
     "metadata": {},
     "output_type": "display_data"
    },
    {
     "name": "stdout",
     "output_type": "stream",
     "text": [
      "No Response             9\n",
      "Full-time employment    4\n",
      "Self-employed           3\n",
      "Part time employment    2\n",
      "Student                 1\n",
      "Contract employment     1\n",
      "Name: employment_status, dtype: int64\n"
     ]
    }
   ],
   "source": [
    "employment_count = pivoted_df['employment_status'].value_counts()\n",
    "\n",
    "# Plot the count in a bar graph\n",
    "employment = employment_count.plot(kind='bar') \n",
    "# , rot=0\n",
    "employment.set_title('Student Employment Status')\n",
    "employment.set_xlabel('Value')\n",
    "employment.set_ylabel('Count')\n",
    "\n",
    "# recruitment.set_xticklabels([text[:6] + '\\n' + text[6:] for text in recruitment_count.index])\n",
    "\n",
    "# Wrap the labels\n",
    "plt.xticks(ha='center', fontsize=8)\n",
    "# rotation=0, \n",
    "\n",
    "plt.show()\n",
    "\n",
    "print(employment_count)"
   ]
  },
  {
   "cell_type": "code",
   "execution_count": 136,
   "id": "31ef6862-6251-4104-9f8b-b80ca71e8920",
   "metadata": {},
   "outputs": [
    {
     "name": "stdout",
     "output_type": "stream",
     "text": [
      "No Response                     10\n",
      "D                                2\n",
      "c                                1\n",
      "I                                1\n",
      "Twitter and Instagram            1\n",
      "h. whatsapp                      1\n",
      "Twitter \\nYouTube \\nWhatsApp     1\n",
      "h. WhatsApp                      1\n",
      "H                                1\n",
      "Ac, h, i                         1\n",
      "Name: favorite_app, dtype: int64\n"
     ]
    }
   ],
   "source": [
    "print(pivoted_df['favorite_app'].value_counts())"
   ]
  },
  {
   "cell_type": "code",
   "execution_count": 138,
   "id": "ce104fbb-8ad2-4658-9644-c2aa426ae42c",
   "metadata": {},
   "outputs": [
    {
     "name": "stdout",
     "output_type": "stream",
     "text": [
      "STUDENT_ID\n",
      "829689559943479296                                 Google\n",
      "872011308793471036                              Instagram\n",
      "880684860400873505                            No Response\n",
      "895700412106149899                            No Response\n",
      "907555122723319858                            No Response\n",
      "914658875834241054                                YouTube\n",
      "922614479542452284                              Instagram\n",
      "932982740821872700                     Twitter, Instagram\n",
      "1030009694212870144                              WhatsApp\n",
      "1037395744786747412                           No Response\n",
      "1040938229513343056                           No Response\n",
      "1064493525137371176                           No Response\n",
      "1064892608008167495                           No Response\n",
      "1064902702372507698            Twitter, YouTube, WhatsApp\n",
      "1065564948048138290                              WhatsApp\n",
      "1065568388115595284                              WhatsApp\n",
      "1065924770442522674                           No Response\n",
      "1065948441353658388                           No Response\n",
      "1066024418087800892                           No Response\n",
      "1067383972499312671    Discord, Google, WhatsApp, YouTube\n",
      "Name: favorite_app, dtype: object\n"
     ]
    }
   ],
   "source": [
    "pivoted_df['favorite_app'] = pivoted_df['favorite_app'].replace({'a': 'Discord', 'b': 'Facebook', 'c': 'Google', \n",
    "                                                                 'd': 'Instagram', 'D': 'Instagram', 'e': 'Linkedin', \n",
    "                                                                 'f': 'Tiktok', 'g': 'Twitter', 'h': 'WhatsApp', \n",
    "                                                                 'h. whatsapp': 'WhatsApp', 'h. WhatsApp': 'WhatsApp', \n",
    "                                                                 'H': 'WhatsApp', 'i': 'YouTube', 'I': 'YouTube',\n",
    "                                                                'Twitter and Instagram': 'Twitter, Instagram',\n",
    "                                                                'Twitter \\nYouTube \\nWhatsApp': 'Twitter, YouTube, WhatsApp',\n",
    "                                                                 'Ac, h, i': 'Discord, Google, WhatsApp, YouTube', \n",
    "                                                                 'Youtube': 'YouTube'})\n",
    "print(pivoted_df['favorite_app'])"
   ]
  },
  {
   "cell_type": "code",
   "execution_count": 145,
   "id": "a6a74dd6-023f-4841-8bdd-a4f847dfe6be",
   "metadata": {},
   "outputs": [
    {
     "data": {
      "image/png": "[encoded data removed]",
      "text/plain": [
       "<Figure size 640x480 with 1 Axes>"
      ]
     },
     "metadata": {},
     "output_type": "display_data"
    },
    {
     "name": "stdout",
     "output_type": "stream",
     "text": [
      "No Response    10\n",
      "WhatsApp        5\n",
      "Instagram       3\n",
      "YouTube         3\n",
      "Google          2\n",
      "Twitter         2\n",
      "Discord         1\n",
      "dtype: int64\n"
     ]
    }
   ],
   "source": [
    "all_words = pivoted_df['favorite_app'].str.split(', ').sum()\n",
    "\n",
    "app_word_count = pd.Series(all_words).value_counts()\n",
    "\n",
    "# Plot the count in a bar graph\n",
    "app = app_word_count.plot(kind='bar') \n",
    "# , rot=0\n",
    "app.set_title('Student\\'s Favourite Apps')\n",
    "app.set_xlabel('Value')\n",
    "app.set_ylabel('Count')\n",
    "\n",
    "# recruitment.set_xticklabels([text[:6] + '\\n' + text[6:] for text in recruitment_count.index])\n",
    "\n",
    "# Wrap the labels\n",
    "plt.xticks(ha='center', fontsize=8)\n",
    "# rotation=0, \n",
    "\n",
    "plt.show()\n",
    "\n",
    "print(app_word_count)\n"
   ]
  },
  {
   "cell_type": "code",
   "execution_count": 146,
   "id": "edc281b5-bcad-40ac-a034-3aa02271009d",
   "metadata": {},
   "outputs": [
    {
     "name": "stdout",
     "output_type": "stream",
     "text": [
      "No Response                  10\n",
      "C                             3\n",
      "B                             1\n",
      "1                             1\n",
      "Online search                 1\n",
      "online search                 1\n",
      "C. Referral from a friend     1\n",
      "b. Social media               1\n",
      "b                             1\n",
      "Name: heard_about_from, dtype: int64\n"
     ]
    }
   ],
   "source": [
    "print(pivoted_df['heard_about_from'].value_counts())"
   ]
  },
  {
   "cell_type": "code",
   "execution_count": 150,
   "id": "dc7345c4-6fba-44f1-9808-f5bff7ca0a6e",
   "metadata": {},
   "outputs": [
    {
     "name": "stdout",
     "output_type": "stream",
     "text": [
      "STUDENT_ID\n",
      "829689559943479296       No Response\n",
      "872011308793471036       No Response\n",
      "880684860400873505      Social media\n",
      "895700412106149899       No Response\n",
      "907555122723319858       No Response\n",
      "914658875834241054     Online search\n",
      "922614479542452284       No Response\n",
      "932982740821872700     Online search\n",
      "1030009694212870144    Online search\n",
      "1037395744786747412      No Response\n",
      "1040938229513343056         Referral\n",
      "1064493525137371176      No Response\n",
      "1064892608008167495         Referral\n",
      "1064902702372507698         Referral\n",
      "1065564948048138290     Social media\n",
      "1065568388115595284         Referral\n",
      "1065924770442522674      No Response\n",
      "1065948441353658388      No Response\n",
      "1066024418087800892      No Response\n",
      "1067383972499312671     Social media\n",
      "Name: heard_about_from, dtype: object\n"
     ]
    }
   ],
   "source": [
    "pivoted_df['heard_about_from'] = pivoted_df['heard_about_from'].replace({'a': 'Online search', 'online search': 'Online search', \n",
    "                                                                         1: 'Online search', 'b': 'Social media', 'B': 'Social media', \n",
    "                                                                         'b. Social media': 'Social media',\n",
    "                                                                         'c': 'Referral', 'C': 'Referral', \n",
    "                                                                         'C. Referral from a friend': 'Referral', \n",
    "                                                                         'd': 'Email newsletter', 'D': 'Email newsletter', \n",
    "                                                                         'e': 'Other'})\n",
    "print(pivoted_df['heard_about_from'])"
   ]
  },
  {
   "cell_type": "code",
   "execution_count": 151,
   "id": "e779a892-9174-4c06-b119-073ff05f75e8",
   "metadata": {},
   "outputs": [
    {
     "data": {
      "image/png": "[encoded data removed]",
      "text/plain": [
       "<Figure size 640x480 with 1 Axes>"
      ]
     },
     "metadata": {},
     "output_type": "display_data"
    },
    {
     "name": "stdout",
     "output_type": "stream",
     "text": [
      "No Response      10\n",
      "Referral          4\n",
      "Social media      3\n",
      "Online search     3\n",
      "Name: heard_about_from, dtype: int64\n"
     ]
    }
   ],
   "source": [
    "heard_about_from_count = pivoted_df['heard_about_from'].value_counts()\n",
    "\n",
    "# Plot the count in a bar graph\n",
    "heard_about_from = heard_about_from_count.plot(kind='bar') \n",
    "# , rot=0\n",
    "heard_about_from.set_title('How Student\\'s Learned About ExploreAI Academy')\n",
    "heard_about_from.set_xlabel('Value')\n",
    "heard_about_from.set_ylabel('Count')\n",
    "\n",
    "# recruitment.set_xticklabels([text[:6] + '\\n' + text[6:] for text in recruitment_count.index])\n",
    "\n",
    "# Wrap the labels\n",
    "plt.xticks(ha='center', fontsize=8)\n",
    "# rotation=0, \n",
    "\n",
    "plt.show()\n",
    "\n",
    "print(heard_about_from_count)"
   ]
  },
  {
   "cell_type": "code",
   "execution_count": 152,
   "id": "cd35f6fc-8eff-4f1a-9940-3ce05a9f4aca",
   "metadata": {},
   "outputs": [
    {
     "name": "stdout",
     "output_type": "stream",
     "text": [
      "No Response                                       14\n",
      "The meetings with moderators                       1\n",
      "Thrive sessions & webinars                         1\n",
      "Working hands-on in teams                          1\n",
      "...new skills learnt                               1\n",
      "The course materials and the test of knowledge     1\n",
      "b. Likely                                          1\n",
      "Name: most_impactful_experience, dtype: int64\n"
     ]
    }
   ],
   "source": [
    "print(pivoted_df['most_impactful_experience'].value_counts())"
   ]
  },
  {
   "cell_type": "code",
   "execution_count": 156,
   "id": "368b0cf2-50fd-4b07-9a20-6811994fa843",
   "metadata": {},
   "outputs": [
    {
     "name": "stdout",
     "output_type": "stream",
     "text": [
      "STUDENT_ID\n",
      "829689559943479296                                        No Response\n",
      "872011308793471036                                        No Response\n",
      "880684860400873505                                           Webinars\n",
      "895700412106149899                                        No Response\n",
      "907555122723319858                                   Thrive, Webinars\n",
      "914658875834241054                                        No Response\n",
      "922614479542452284                                        No Response\n",
      "932982740821872700     New practical skills learned, Working in teams\n",
      "1030009694212870144                      New practical skills learned\n",
      "1037395744786747412                                       No Response\n",
      "1040938229513343056                                       No Response\n",
      "1064493525137371176                                       No Response\n",
      "1064892608008167495    Course materials, New practical skills learned\n",
      "1064902702372507698                                       No Response\n",
      "1065564948048138290                      New practical skills learned\n",
      "1065568388115595284                                       No Response\n",
      "1065924770442522674                                       No Response\n",
      "1065948441353658388                                       No Response\n",
      "1066024418087800892                                       No Response\n",
      "1067383972499312671                                       No Response\n",
      "Name: most_impactful_experience, dtype: object\n"
     ]
    }
   ],
   "source": [
    "pivoted_df['most_impactful_experience'] = pivoted_df['most_impactful_experience'].replace({'The meetings with moderators': 'Webiners', \n",
    "                                                                        'Thrive sessions & webinars': 'Thrive, Webinars',\n",
    "                                                                        'Working hands-on in teams': 'New practical skills learned, Working in teams',\n",
    "                                                                        '...new skills learnt': 'New practical skills learned',\n",
    "                                                                        'The course materials and the test of knowledge': 'Course materials, New practical skills learned',\n",
    "                                                                        'b. Likely': 'New practical skills learned', \n",
    "                                                                                          'Webiners': 'Webinars'})\n",
    "print(pivoted_df['most_impactful_experience'])"
   ]
  },
  {
   "cell_type": "code",
   "execution_count": 173,
   "id": "acb644cd-b2ba-4388-b7d2-d27df2979032",
   "metadata": {},
   "outputs": [
    {
     "data": {
      "image/png": "[encoded data removed]",
      "text/plain": [
       "<Figure size 640x480 with 1 Axes>"
      ]
     },
     "metadata": {},
     "output_type": "display_data"
    },
    {
     "name": "stdout",
     "output_type": "stream",
     "text": [
      "No Response                     14\n",
      "New practical skills learned     4\n",
      "Webinars                         2\n",
      "Thrive                           1\n",
      "Working in teams                 1\n",
      "Course materials                 1\n",
      "dtype: int64\n"
     ]
    }
   ],
   "source": [
    "all_phrases = pivoted_df['most_impactful_experience'].str.split(', ').sum()\n",
    "\n",
    "phrase_count = pd.Series(all_phrases).value_counts()\n",
    "\n",
    "# Plot the count in a bar graph\n",
    "phrases = phrase_count.plot(kind='bar') \n",
    "# , rot=0\n",
    "phrases.set_title('Most Impactful Experience at ExploreAI Academy')\n",
    "phrases.set_xlabel('Value')\n",
    "phrases.set_ylabel('Count')\n",
    "\n",
    "phrases.set_xticklabels([text[:13] + '\\n' + text[13:] for text in phrase_count.index])\n",
    "\n",
    "# Wrap the labels\n",
    "plt.xticks(rotation=0, ha='center', fontsize=8)\n",
    "#  \n",
    "\n",
    "plt.show()\n",
    "\n",
    "print(phrase_count)\n"
   ]
  },
  {
   "cell_type": "code",
   "execution_count": 159,
   "id": "7b9d8d3e-b1b6-4a69-8f4f-d96013b6ffaa",
   "metadata": {},
   "outputs": [
    {
     "name": "stdout",
     "output_type": "stream",
     "text": [
      "No Response                            14\n",
      "change in career, personal interest     1\n",
      "d                                       1\n",
      "A                                       1\n",
      "a. change in career                     1\n",
      "b                                       1\n",
      "a                                       1\n",
      "Name: motivation_factors, dtype: int64\n"
     ]
    }
   ],
   "source": [
    "print(pivoted_df['motivation_factors'].value_counts())"
   ]
  },
  {
   "cell_type": "code",
   "execution_count": 160,
   "id": "71634974-e874-4c95-a67f-46ed8cdd222e",
   "metadata": {},
   "outputs": [
    {
     "name": "stdout",
     "output_type": "stream",
     "text": [
      "STUDENT_ID\n",
      "829689559943479296                             No Response\n",
      "872011308793471036                             No Response\n",
      "880684860400873505                             No Response\n",
      "895700412106149899     Change in career, Personal interest\n",
      "907555122723319858                       Learn a new skill\n",
      "914658875834241054                        Change in career\n",
      "922614479542452284                             No Response\n",
      "932982740821872700                             No Response\n",
      "1030009694212870144                       Change in career\n",
      "1037395744786747412                            No Response\n",
      "1040938229513343056                            No Response\n",
      "1064493525137371176                        Make more money\n",
      "1064892608008167495                            No Response\n",
      "1064902702372507698                            No Response\n",
      "1065564948048138290                            No Response\n",
      "1065568388115595284                            No Response\n",
      "1065924770442522674                            No Response\n",
      "1065948441353658388                            No Response\n",
      "1066024418087800892                            No Response\n",
      "1067383972499312671                       Change in career\n",
      "Name: motivation_factors, dtype: object\n"
     ]
    }
   ],
   "source": [
    "pivoted_df['motivation_factors'] = pivoted_df['motivation_factors'].replace({'a': 'Change in career', 'A': 'Change in career', \n",
    "                                                                             'a. change in career': 'Change in career', \n",
    "                                                                             'b': 'Make more money', \n",
    "                                                                             'c': 'Improve existing knowledge', \n",
    "                                                                             'd': 'Learn a new skill', 'e': 'Job requirement', \n",
    "                                                                             'f': 'Personal interest', 'g': 'Promotion', \n",
    "                                                                             'h': 'Others', \n",
    "                                                                             'change in career, personal interest': 'Change in career, Personal interest'})\n",
    "print(pivoted_df['motivation_factors'])"
   ]
  },
  {
   "cell_type": "code",
   "execution_count": 172,
   "id": "f8e6a1a8-299d-4c71-b71b-b149ac94342f",
   "metadata": {},
   "outputs": [
    {
     "data": {
      "image/png": "[encoded data removed]",
      "text/plain": [
       "<Figure size 640x480 with 1 Axes>"
      ]
     },
     "metadata": {},
     "output_type": "display_data"
    },
    {
     "name": "stdout",
     "output_type": "stream",
     "text": [
      "No Response          14\n",
      "Change in career      4\n",
      "Personal interest     1\n",
      "Learn a new skill     1\n",
      "Make more money       1\n",
      "dtype: int64\n"
     ]
    }
   ],
   "source": [
    "mtv_phrases = pivoted_df['motivation_factors'].str.split(', ').sum()\n",
    "\n",
    "mtv_phrase_count = pd.Series(mtv_phrases).value_counts()\n",
    "\n",
    "# Plot the count in a bar graph\n",
    "mtv_phrases = mtv_phrase_count.plot(kind='bar') \n",
    "# #, rot=0\n",
    "mtv_phrases.set_title('Why Student\\'s Enrolled at ExploreAI Academy')\n",
    "mtv_phrases.set_xlabel('Value')\n",
    "mtv_phrases.set_ylabel('Count')\n",
    "\n",
    "mtv_phrases.set_xticklabels([text[:9] + '\\n' + text[9:] for text in mtv_phrase_count.index])\n",
    "\n",
    "# Wrap the labels\n",
    "plt.xticks(rotation=0, ha='center', fontsize=8)\n",
    " \n",
    "\n",
    "plt.show()\n",
    "\n",
    "print(mtv_phrase_count)\n"
   ]
  },
  {
   "cell_type": "code",
   "execution_count": 174,
   "id": "0f9364c6-8f36-45b2-8281-fad929041fc4",
   "metadata": {},
   "outputs": [
    {
     "name": "stdout",
     "output_type": "stream",
     "text": [
      "No Response    11\n",
      "AC              7\n",
      "FT              2\n",
      "Name: program_plan, dtype: int64\n"
     ]
    }
   ],
   "source": [
    "print(pivoted_df['program_plan'].value_counts())"
   ]
  },
  {
   "cell_type": "code",
   "execution_count": 164,
   "id": "9e2b41a8-7d28-43c3-b637-e47944f74190",
   "metadata": {},
   "outputs": [
    {
     "name": "stdout",
     "output_type": "stream",
     "text": [
      "STUDENT_ID\n",
      "829689559943479296     No Response\n",
      "872011308793471036     No Response\n",
      "880684860400873505              AC\n",
      "895700412106149899              FT\n",
      "907555122723319858     No Response\n",
      "914658875834241054     No Response\n",
      "922614479542452284              AC\n",
      "932982740821872700              AC\n",
      "1030009694212870144    No Response\n",
      "1037395744786747412    No Response\n",
      "1040938229513343056    No Response\n",
      "1064493525137371176    No Response\n",
      "1064892608008167495             AC\n",
      "1064902702372507698             AC\n",
      "1065564948048138290             AC\n",
      "1065568388115595284             AC\n",
      "1065924770442522674    No Response\n",
      "1065948441353658388    No Response\n",
      "1066024418087800892    No Response\n",
      "1067383972499312671             FT\n",
      "Name: program_plan, dtype: object\n"
     ]
    }
   ],
   "source": [
    "pivoted_df['program_plan'] = pivoted_df['program_plan'].replace({'a': 'FT', 'b': 'AC', 'B': 'AC', 'b. AC': 'AC', \n",
    "                                                                 'c': 'Self sponsored', 'd': 'Paid scholarship'})\n",
    "print(pivoted_df['program_plan'])"
   ]
  },
  {
   "cell_type": "code",
   "execution_count": 166,
   "id": "986faecc-ccdb-4eb2-a843-d6bc5110f23b",
   "metadata": {},
   "outputs": [
    {
     "data": {
      "image/png": "[encoded data removed]",
      "text/plain": [
       "<Figure size 640x480 with 1 Axes>"
      ]
     },
     "metadata": {},
     "output_type": "display_data"
    },
    {
     "name": "stdout",
     "output_type": "stream",
     "text": [
      "No Response    11\n",
      "AC              7\n",
      "FT              2\n",
      "Name: program_plan, dtype: int64\n"
     ]
    }
   ],
   "source": [
    "plan_count = pivoted_df['program_plan'].value_counts()\n",
    "\n",
    "# Plot the count in a bar graph\n",
    "plan = plan_count.plot(kind='bar', rot=0) \n",
    "\n",
    "plan.set_title('How Student\\'s Learned About ExploreAI Academy')\n",
    "plan.set_xlabel('Value')\n",
    "plan.set_ylabel('Count')\n",
    "\n",
    "# recruitment.set_xticklabels([text[:6] + '\\n' + text[6:] for text in recruitment_count.index])\n",
    "\n",
    "# Wrap the labels\n",
    "plt.xticks(rotation=0, ha='center', fontsize=8)\n",
    " \n",
    "\n",
    "plt.show()\n",
    "\n",
    "print(plan_count)"
   ]
  },
  {
   "cell_type": "code",
   "execution_count": 175,
   "id": "081da0f0-2cf0-4bf1-87a9-aa88ce08d8a3",
   "metadata": {},
   "outputs": [
    {
     "name": "stdout",
     "output_type": "stream",
     "text": [
      "No Response             14\n",
      "Watch a movie            1\n",
      "C                        1\n",
      "watch movies or read     1\n",
      "browsing                 1\n",
      "Playing game             1\n",
      "Relaxation               1\n",
      "Name: relaxation_mode, dtype: int64\n"
     ]
    }
   ],
   "source": [
    "print(pivoted_df['relaxation_mode'].value_counts())"
   ]
  },
  {
   "cell_type": "code",
   "execution_count": 179,
   "id": "efc9a619-e85c-4563-9984-7cb1afb2d19e",
   "metadata": {},
   "outputs": [
    {
     "name": "stdout",
     "output_type": "stream",
     "text": [
      "STUDENT_ID\n",
      "829689559943479296            No Response\n",
      "872011308793471036            No Response\n",
      "880684860400873505            No Response\n",
      "895700412106149899            No Response\n",
      "907555122723319858            No Response\n",
      "914658875834241054           Watch movies\n",
      "922614479542452284           Watch movies\n",
      "932982740821872700     Watch movies, Read\n",
      "1030009694212870144      Internet surfing\n",
      "1037395744786747412           No Response\n",
      "1040938229513343056           No Response\n",
      "1064493525137371176           No Response\n",
      "1064892608008167495           No Response\n",
      "1064902702372507698           No Response\n",
      "1065564948048138290           Video games\n",
      "1065568388115595284            Relaxation\n",
      "1065924770442522674           No Response\n",
      "1065948441353658388           No Response\n",
      "1066024418087800892           No Response\n",
      "1067383972499312671           No Response\n",
      "Name: relaxation_mode, dtype: object\n"
     ]
    }
   ],
   "source": [
    "pivoted_df['relaxation_mode'] = pivoted_df['relaxation_mode'].replace({'Watch a movie': 'Watch movies', \n",
    "                                                                       'watch movies or read': 'Watch movies, Read', \n",
    "                                                                       'C': 'Watch movies', 'browsing': 'Internet surfing',\n",
    "                                                                      'Playing game': 'Video games'})\n",
    "print(pivoted_df['relaxation_mode'])"
   ]
  },
  {
   "cell_type": "code",
   "execution_count": 183,
   "id": "446ff7a6-142d-4df1-b821-66c11744ed13",
   "metadata": {},
   "outputs": [
    {
     "data": {
      "image/png": "[encoded data removed]",
      "text/plain": [
       "<Figure size 640x480 with 1 Axes>"
      ]
     },
     "metadata": {},
     "output_type": "display_data"
    },
    {
     "name": "stdout",
     "output_type": "stream",
     "text": [
      "No Response         14\n",
      "Watch movies         3\n",
      "Read                 1\n",
      "Internet surfing     1\n",
      "Video games          1\n",
      "Relaxation           1\n",
      "dtype: int64\n"
     ]
    }
   ],
   "source": [
    "relax_phrases = pivoted_df['relaxation_mode'].str.split(', ').sum()\n",
    "\n",
    "relax_phrase_count = pd.Series(relax_phrases).value_counts()\n",
    "\n",
    "# Plot the count in a bar graph\n",
    "relax_phrases = relax_phrase_count.plot(kind='bar') \n",
    "# #, rot=0\n",
    "relax_phrases.set_title('How Student\\'s Unwind after a Busy Day of Classes')\n",
    "relax_phrases.set_xlabel('Value')\n",
    "relax_phrases.set_ylabel('Count')\n",
    "\n",
    "relax_phrases.set_xticklabels([text[:9] + '\\n' + text[9:] for text in relax_phrase_count.index])\n",
    "\n",
    "# Wrap the labels\n",
    "plt.xticks(rotation=0, ha='center', fontsize=8)\n",
    " \n",
    "\n",
    "plt.show()\n",
    "\n",
    "print(relax_phrase_count)\n"
   ]
  },
  {
   "cell_type": "code",
   "execution_count": null,
   "id": "b41e5b1b-444d-4d80-bb36-c854de4febd3",
   "metadata": {},
   "outputs": [],
   "source": []
  },
  {
   "cell_type": "code",
   "execution_count": 184,
   "id": "83a905b2-c21f-46b1-a391-16c8f51fe303",
   "metadata": {
    "scrolled": true
   },
   "outputs": [
    {
     "name": "stdout",
     "output_type": "stream",
     "text": [
      "Question_Title                            access_to_additional_support  \\\n",
      "STUDENT_ID                                                               \n",
      "829689559943479296                                     Yes. I am aware   \n",
      "872011308793471036   I have limited awareness and would like more i...   \n",
      "880684860400873505   I have limited awareness and would like more i...   \n",
      "895700412106149899                                         No Response   \n",
      "907555122723319858                                         No Response   \n",
      "914658875834241054   I have limited awareness and would like more i...   \n",
      "922614479542452284                                  No. I am not aware   \n",
      "932982740821872700                                  No. I am not aware   \n",
      "1030009694212870144                                 No. I am not aware   \n",
      "1037395744786747412                                        No Response   \n",
      "1040938229513343056                                        No Response   \n",
      "1064493525137371176                                        No Response   \n",
      "1064892608008167495  I have limited awareness and would like more i...   \n",
      "1064902702372507698  I have limited awareness and would like more i...   \n",
      "1065564948048138290                                 No. I am not aware   \n",
      "1065568388115595284                                 No. I am not aware   \n",
      "1065924770442522674                                        No Response   \n",
      "1065948441353658388                                        No Response   \n",
      "1066024418087800892                                        No Response   \n",
      "1067383972499312671                                        No Response   \n",
      "\n",
      "Question_Title               age career_aspiration       career_sector  \\\n",
      "STUDENT_ID                                                               \n",
      "829689559943479296   No Response    Data Scientist         No Response   \n",
      "872011308793471036         36-40       No Response         No Response   \n",
      "880684860400873505         26-30    Data Scientist            Business   \n",
      "895700412106149899   No Response      Data Analyst         No Response   \n",
      "907555122723319858         21-25    Data Scientist         No Response   \n",
      "914658875834241054         26-30    Data Scientist          Automotive   \n",
      "922614479542452284   No Response       No Response             Finance   \n",
      "932982740821872700         36-40  Business Analyst  Open to any sector   \n",
      "1030009694212870144        46-50    Data Scientist             Telecom   \n",
      "1037395744786747412  No Response    Data Scientist         No Response   \n",
      "1040938229513343056  No Response       No Response         No Response   \n",
      "1064493525137371176        31-35       No Response         No Response   \n",
      "1064892608008167495        26-30    Data Scientist           Education   \n",
      "1064902702372507698        26-30       No Response  Open to any sector   \n",
      "1065564948048138290        26-30    Data Scientist          Healthcare   \n",
      "1065568388115595284        31-35       No Response            Military   \n",
      "1065924770442522674  No Response       No Response         No Response   \n",
      "1065948441353658388        56-60       No Response         No Response   \n",
      "1066024418087800892  No Response       No Response         No Response   \n",
      "1067383972499312671  No Response     Data Engineer         No Response   \n",
      "\n",
      "Question_Title      course_confidence course_satisfaction      course_title  \\\n",
      "STUDENT_ID                                                                    \n",
      "829689559943479296             Likely           Satisfied      Data Science   \n",
      "872011308793471036        No Response         No Response  Data Engineering   \n",
      "880684860400873505        No Response      Very satisfied       No Response   \n",
      "895700412106149899        No Response           Satisfied       No Response   \n",
      "907555122723319858        No Response         No Response       No Response   \n",
      "914658875834241054             Likely           Satisfied      Data Science   \n",
      "922614479542452284             Likely         No Response       No Response   \n",
      "932982740821872700      Highly likely           Satisfied      Data Science   \n",
      "1030009694212870144     Highly likely         No Response      Data Science   \n",
      "1037395744786747412       No Response         No Response       No Response   \n",
      "1040938229513343056       No Response         No Response       No Response   \n",
      "1064493525137371176       No Response         No Response       No Response   \n",
      "1064892608008167495       No Response           Satisfied      Data Science   \n",
      "1064902702372507698       No Response         No Response      Data Science   \n",
      "1065564948048138290     Highly likely      Very satisfied      Data Science   \n",
      "1065568388115595284     Highly likely           Satisfied       No Response   \n",
      "1065924770442522674       No Response         No Response       No Response   \n",
      "1065948441353658388       No Response         No Response       No Response   \n",
      "1066024418087800892            Likely           Satisfied       No Response   \n",
      "1067383972499312671       No Response         No Response       No Response   \n",
      "\n",
      "Question_Title                  current_location        education  \\\n",
      "STUDENT_ID                                                          \n",
      "829689559943479296                   No Response      Certificate   \n",
      "872011308793471036                   No Response      No Response   \n",
      "880684860400873505                Lagos, Nigeria       Bachelor's   \n",
      "895700412106149899   Northern Cape, South Africa      No Response   \n",
      "907555122723319858                   No Response       Bachelor's   \n",
      "914658875834241054                Lagos, Nigeria          Diploma   \n",
      "922614479542452284               Ibadan, Nigeria      No Response   \n",
      "932982740821872700                Lagos, Nigeria            Ph.D.   \n",
      "1030009694212870144            Abeokuta, Nigeria  Master's Degree   \n",
      "1037395744786747412          Benin-City, Nigeria  Master's Degree   \n",
      "1040938229513343056                  No Response      No Response   \n",
      "1064493525137371176               Lagos, Nigeria      No Response   \n",
      "1064892608008167495              Ilorin, Nigeria            Ph.D.   \n",
      "1064902702372507698                  No Response       Bachelor's   \n",
      "1065564948048138290              Osogbo, Nigeria      No Response   \n",
      "1065568388115595284               Lagos, Nigeria      High School   \n",
      "1065924770442522674         Durban, South Africa      No Response   \n",
      "1065948441353658388                  No Response      No Response   \n",
      "1066024418087800892               Lagos, Nigeria      No Response   \n",
      "1067383972499312671               Lagos, Nigeria          Diploma   \n",
      "\n",
      "Question_Title          employment_status                        favorite_app  \\\n",
      "STUDENT_ID                                                                      \n",
      "829689559943479296            No Response                              Google   \n",
      "872011308793471036            No Response                           Instagram   \n",
      "880684860400873505   Full-time employment                         No Response   \n",
      "895700412106149899                Student                         No Response   \n",
      "907555122723319858            No Response                         No Response   \n",
      "914658875834241054            No Response                             YouTube   \n",
      "922614479542452284          Self-employed                           Instagram   \n",
      "932982740821872700          Self-employed                  Twitter, Instagram   \n",
      "1030009694212870144           No Response                            WhatsApp   \n",
      "1037395744786747412           No Response                         No Response   \n",
      "1040938229513343056  Part time employment                         No Response   \n",
      "1064493525137371176  Full-time employment                         No Response   \n",
      "1064892608008167495  Part time employment                         No Response   \n",
      "1064902702372507698           No Response          Twitter, YouTube, WhatsApp   \n",
      "1065564948048138290  Full-time employment                            WhatsApp   \n",
      "1065568388115595284  Full-time employment                            WhatsApp   \n",
      "1065924770442522674           No Response                         No Response   \n",
      "1065948441353658388         Self-employed                         No Response   \n",
      "1066024418087800892   Contract employment                         No Response   \n",
      "1067383972499312671           No Response  Discord, Google, WhatsApp, YouTube   \n",
      "\n",
      "Question_Title      heard_about_from  \\\n",
      "STUDENT_ID                             \n",
      "829689559943479296       No Response   \n",
      "872011308793471036       No Response   \n",
      "880684860400873505      Social media   \n",
      "895700412106149899       No Response   \n",
      "907555122723319858       No Response   \n",
      "914658875834241054     Online search   \n",
      "922614479542452284       No Response   \n",
      "932982740821872700     Online search   \n",
      "1030009694212870144    Online search   \n",
      "1037395744786747412      No Response   \n",
      "1040938229513343056         Referral   \n",
      "1064493525137371176      No Response   \n",
      "1064892608008167495         Referral   \n",
      "1064902702372507698         Referral   \n",
      "1065564948048138290     Social media   \n",
      "1065568388115595284         Referral   \n",
      "1065924770442522674      No Response   \n",
      "1065948441353658388      No Response   \n",
      "1066024418087800892      No Response   \n",
      "1067383972499312671     Social media   \n",
      "\n",
      "Question_Title                            most_impactful_experience  \\\n",
      "STUDENT_ID                                                            \n",
      "829689559943479296                                      No Response   \n",
      "872011308793471036                                      No Response   \n",
      "880684860400873505                                         Webinars   \n",
      "895700412106149899                                      No Response   \n",
      "907555122723319858                                 Thrive, Webinars   \n",
      "914658875834241054                                      No Response   \n",
      "922614479542452284                                      No Response   \n",
      "932982740821872700   New practical skills learned, Working in teams   \n",
      "1030009694212870144                    New practical skills learned   \n",
      "1037395744786747412                                     No Response   \n",
      "1040938229513343056                                     No Response   \n",
      "1064493525137371176                                     No Response   \n",
      "1064892608008167495  Course materials, New practical skills learned   \n",
      "1064902702372507698                                     No Response   \n",
      "1065564948048138290                    New practical skills learned   \n",
      "1065568388115595284                                     No Response   \n",
      "1065924770442522674                                     No Response   \n",
      "1065948441353658388                                     No Response   \n",
      "1066024418087800892                                     No Response   \n",
      "1067383972499312671                                     No Response   \n",
      "\n",
      "Question_Title                        motivation_factors program_plan  \\\n",
      "STUDENT_ID                                                              \n",
      "829689559943479296                           No Response  No Response   \n",
      "872011308793471036                           No Response  No Response   \n",
      "880684860400873505                           No Response           AC   \n",
      "895700412106149899   Change in career, Personal interest           FT   \n",
      "907555122723319858                     Learn a new skill  No Response   \n",
      "914658875834241054                      Change in career  No Response   \n",
      "922614479542452284                           No Response           AC   \n",
      "932982740821872700                           No Response           AC   \n",
      "1030009694212870144                     Change in career  No Response   \n",
      "1037395744786747412                          No Response  No Response   \n",
      "1040938229513343056                          No Response  No Response   \n",
      "1064493525137371176                      Make more money  No Response   \n",
      "1064892608008167495                          No Response           AC   \n",
      "1064902702372507698                          No Response           AC   \n",
      "1065564948048138290                          No Response           AC   \n",
      "1065568388115595284                          No Response           AC   \n",
      "1065924770442522674                          No Response  No Response   \n",
      "1065948441353658388                          No Response  No Response   \n",
      "1066024418087800892                          No Response  No Response   \n",
      "1067383972499312671                     Change in career           FT   \n",
      "\n",
      "Question_Title          relaxation_mode  \n",
      "STUDENT_ID                               \n",
      "829689559943479296          No Response  \n",
      "872011308793471036          No Response  \n",
      "880684860400873505          No Response  \n",
      "895700412106149899          No Response  \n",
      "907555122723319858          No Response  \n",
      "914658875834241054         Watch movies  \n",
      "922614479542452284         Watch movies  \n",
      "932982740821872700   Watch movies, Read  \n",
      "1030009694212870144    Internet surfing  \n",
      "1037395744786747412         No Response  \n",
      "1040938229513343056         No Response  \n",
      "1064493525137371176         No Response  \n",
      "1064892608008167495         No Response  \n",
      "1064902702372507698         No Response  \n",
      "1065564948048138290         Video games  \n",
      "1065568388115595284          Relaxation  \n",
      "1065924770442522674         No Response  \n",
      "1065948441353658388         No Response  \n",
      "1066024418087800892         No Response  \n",
      "1067383972499312671         No Response  \n"
     ]
    }
   ],
   "source": [
    "print(pivoted_df)"
   ]
  },
  {
   "cell_type": "code",
   "execution_count": 189,
   "id": "19825163-a67b-4818-a2c8-2de676c04532",
   "metadata": {},
   "outputs": [
    {
     "data": {
      "text/plain": [
       "{'spreadsheetId': '1I9rRt7X7yIcj7MkBJKOWhRmBrFlv6M1HqtSmZka2n-4',\n",
       " 'updates': {'spreadsheetId': '1I9rRt7X7yIcj7MkBJKOWhRmBrFlv6M1HqtSmZka2n-4',\n",
       "  'updatedRange': 'Cleaned_ANS!A1:Q21',\n",
       "  'updatedRows': 21,\n",
       "  'updatedColumns': 17,\n",
       "  'updatedCells': 357}}"
      ]
     },
     "execution_count": 189,
     "metadata": {},
     "output_type": "execute_result"
    }
   ],
   "source": [
    "from oauth2client.service_account import ServiceAccountCredentials\n",
    "import gspread\n",
    "import pandas as pd\n",
    "\n",
    "# Authenticate with Google Sheets\n",
    "scope = [\"https://spreadsheets.google.com/feeds\", \"https://www.googleapis.com/auth/drive\"]\n",
    "creds = ServiceAccountCredentials.from_json_keyfile_name(r'C:\\Users\\Hp\\Downloads\\explore-sed-e91f95f5477f.json', scope)\n",
    "gc = gspread.authorize(creds)\n",
    "\n",
    "# Open the Google Sheet\n",
    "Mavis_Records = \"exploreSED\"\n",
    "cleaned_data = gc.open(Mavis_Records).worksheet('Cleaned_ANS')\n",
    "\n",
    "# Clear the worksheet\n",
    "cleaned_data.clear()\n",
    "\n",
    "# Copy the DataFrame to avoid modifying the original\n",
    "trans_df = pivoted_df.copy()\n",
    "\n",
    "# Reset the index to make 'STUDENT_ID' a regular column\n",
    "trans_df.reset_index(inplace=True)\n",
    "\n",
    "# Convert 'STUDENT_ID' to string in the DataFrame\n",
    "trans_df['STUDENT_ID'] = trans_df['STUDENT_ID'].astype(str)\n",
    "\n",
    "# Convert the DataFrame to a list of lists\n",
    "data = trans_df.values.tolist()\n",
    "\n",
    "data_with_header = [trans_df.columns.tolist()] + data\n",
    "cleaned_data.insert_rows(data_with_header, 1)\n",
    "\n"
   ]
  },
  {
   "cell_type": "code",
   "execution_count": null,
   "id": "29f4d4b5-f01d-4b27-a019-de9a7965a117",
   "metadata": {},
   "outputs": [],
   "source": []
  },
  {
   "cell_type": "code",
   "execution_count": 196,
   "id": "ebfeaaa0-2feb-4d50-a352-d19c1ae6b8e6",
   "metadata": {},
   "outputs": [
    {
     "name": "stdout",
     "output_type": "stream",
     "text": [
      "Cross-Tabulation Table:\n",
      "age                  21-25  26-30  31-35  36-40  46-50  56-60  No Response\n",
      "course_satisfaction                                                       \n",
      "No Response              1      1      1      1      1      1            5\n",
      "Satisfied                0      2      1      1      0      0            3\n",
      "Very satisfied           0      2      0      0      0      0            0\n"
     ]
    }
   ],
   "source": [
    "cat_df = trans_df.copy()\n",
    "\n",
    "# Create a cross-tabulation table for two categorical columns\n",
    "cross_tab = pd.crosstab(cat_df['course_satisfaction'], cat_df['age'])\n",
    "\n",
    "print(\"Cross-Tabulation Table:\")\n",
    "print(cross_tab)"
   ]
  },
  {
   "cell_type": "code",
   "execution_count": 201,
   "id": "2d96d3f1-6cda-4a0c-b321-444cee67d5d9",
   "metadata": {},
   "outputs": [
    {
     "name": "stdout",
     "output_type": "stream",
     "text": [
      "Chi-square statistic: 24.86111111111111\n",
      "p-value: 0.7317531134999542\n",
      "There is no significant association between course satisfaction and age.\n"
     ]
    }
   ],
   "source": [
    "from scipy.stats import chi2_contingency\n",
    "\n",
    "chi_sq = trans_df.copy()\n",
    "\n",
    "# Create a contingency table between two categorical columns\n",
    "contingency_table = pd.crosstab(chi_sq['employment_status'], chi_sq['age'])\n",
    "\n",
    "# Perform the chi-square test\n",
    "chi2, p, _, _ = chi2_contingency(contingency_table)\n",
    "\n",
    "print(\"Chi-square statistic:\", chi2)\n",
    "print(\"p-value:\", p)\n",
    "\n",
    "# Determine whether the result is statistically significant\n",
    "alpha = 0.05  \n",
    "if p < alpha:\n",
    "    print(\"There is a significant association between course satisfaction and age.\")\n",
    "else:\n",
    "    print(\"There is no significant association between course satisfaction and age.\")"
   ]
  },
  {
   "cell_type": "code",
   "execution_count": 205,
   "id": "230eef31-4614-401d-9913-5f4044b758be",
   "metadata": {},
   "outputs": [
    {
     "name": "stdout",
     "output_type": "stream",
     "text": [
      "Cramer's V: 0.7077624204383747\n"
     ]
    }
   ],
   "source": [
    "import numpy as np\n",
    "\n",
    "chi_sq_df = trans_df.copy()\n",
    "\n",
    "# Create a contingency table between two categorical columns\n",
    "contingency_table = pd.crosstab(chi_sq_df['course_satisfaction'], chi_sq_df['current_location'])\n",
    "\n",
    "# Perform the chi-square test\n",
    "chi2, _, _, _ = chi2_contingency(contingency_table)\n",
    "\n",
    "# Calculate Cramer's V\n",
    "n = contingency_table.sum().sum()  # Total number of observations\n",
    "min_dim = min(contingency_table.shape) - 1  # Number of categories minus 1\n",
    "cramer_v = np.sqrt(chi2 / (n * min_dim))\n",
    "\n",
    "print(\"Cramer's V:\", cramer_v)"
   ]
  },
  {
   "cell_type": "code",
   "execution_count": null,
   "id": "f31150df-ba9c-4d92-a6e7-b2bf118aa320",
   "metadata": {},
   "outputs": [],
   "source": []
  }
 ],
 "metadata": {
  "kernelspec": {
   "display_name": "Python 3 (ipykernel)",
   "language": "python",
   "name": "python3"
  },
  "language_info": {
   "codemirror_mode": {
    "name": "ipython",
    "version": 3
   },
   "file_extension": ".py",
   "mimetype": "text/x-python",
   "name": "python",
   "nbconvert_exporter": "python",
   "pygments_lexer": "ipython3",
   "version": "3.11.4"
  }
 },
 "nbformat": 4,
 "nbformat_minor": 5
}
